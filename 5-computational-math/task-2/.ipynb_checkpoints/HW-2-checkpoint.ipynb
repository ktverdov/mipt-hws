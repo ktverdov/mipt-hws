{
 "cells": [
  {
   "cell_type": "markdown",
   "metadata": {},
   "source": [
    "#### Второе практическое задание по курсу <<Вычислительная математика>>\n",
    "*Работа выполнена Твердовым Константином, группа 592.*"
   ]
  },
  {
   "cell_type": "markdown",
   "metadata": {},
   "source": [
    "Решается **Задача 2**:\n",
    ">Написать программу для решения произвольной линейной системы с положительно определенной матрицей методом Якоби."
   ]
  },
  {
   "cell_type": "markdown",
   "metadata": {},
   "source": [
    "* *Построение положительно определенной матрицы:*\n",
    "    \n",
    "    Для любой вещественной обратимой матрицы $A$, произведение $A^TA$ есть положительно определенная матрица, т.к. $x^T(A^TA)x = (Ax)^T(Ax) > 0$ $\\forall x \\in \\mathbb R^n$ и $Ax \\neq 0$ ($A$ - невырождена).\n",
    "    \n",
    "    Положительная определенность полученной матрицы проверяется по собственным числам.\n",
    "\n",
    "\n",
    "* Пусть задана СЛАУ $Ax = b$, где $A$ - матрица размера $n \\times n$, $b$ $-$ столбец коэффициентов, $x$ $-$ искомый вектор. \n",
    "\n",
    "    Согласно методу Якоби представим $A$ в виде $A = D + R$, где $D$ $-$ диагональная матрица.\n",
    "    \n",
    "    Тогда $Dx + Rx = b$ и $x = -D^{-1}Rx + D^{-1}b$,\n",
    "    \n",
    "    Итерационный метод Якоби строится по формуле $x^{(k+1)} = D^{-1}(-Rx^{(k)} + b)$,\n",
    "\n",
    "    Используемая далее покомпонентная запись:\n",
    "\n",
    "    $ x^{(k+1)}_i = \\frac{1}{a_{ii}} (-\\sum_{i \\neq j} a_{ij}x^{(k)}_j + b_i)$."
   ]
  },
  {
   "cell_type": "code",
   "execution_count": 38,
   "metadata": {
    "collapsed": true
   },
   "outputs": [],
   "source": [
    "import numpy as np"
   ]
  },
  {
   "cell_type": "code",
   "execution_count": 39,
   "metadata": {
    "collapsed": true
   },
   "outputs": [],
   "source": [
    "def GenPositiveDefiniteMatrix(n):\n",
    "    A = np.random.random(size=(n,n))\n",
    "    A = np.dot(A.transpose(), A)\n",
    "    return A\n",
    "    \n",
    "def GenDependentVariables(n):\n",
    "    return np.random.random(size=n)"
   ]
  },
  {
   "cell_type": "code",
   "execution_count": 40,
   "metadata": {
    "collapsed": true
   },
   "outputs": [],
   "source": [
    "def IsMatrixPositiveDefinite(A):\n",
    "    return np.all(np.linalg.eigvals(A) > 0)\n",
    "\n",
    "def Norm(x):\n",
    "    norm_l1 = 0\n",
    "    \n",
    "    for i in range(len(x)):\n",
    "        norm_l1 += np.fabs(x[i])\n",
    "        \n",
    "    return norm_l1"
   ]
  },
  {
   "cell_type": "code",
   "execution_count": 41,
   "metadata": {
    "collapsed": true
   },
   "outputs": [],
   "source": [
    "def JacobiMethod(a, b, accuracy, x_start=None):\n",
    "    if (x_start is None):\n",
    "        x = np.zeros_like(b)\n",
    "        x_prev = np.zeros_like(b)\n",
    "    else:\n",
    "        x = x_start\n",
    "        x_prev = x_start\n",
    "    \n",
    "    n = len(x)\n",
    "    iters = 0\n",
    "    \n",
    "    while Norm(np.dot(A, x) - b) > accuracy:\n",
    "        \n",
    "        for i in range(n):\n",
    "            composition = 0\n",
    "            \n",
    "            for j in range(n):\n",
    "                if j != i:\n",
    "                    composition += A[i][j] * x_prev[j]\n",
    "                    \n",
    "            x[i] = (b[i] - composition) / A[i][i]\n",
    "        \n",
    "        x_prev = x\n",
    "        iters += 1\n",
    "        \n",
    "    return x, iters"
   ]
  },
  {
   "cell_type": "code",
   "execution_count": 42,
   "metadata": {},
   "outputs": [
    {
     "name": "stdout",
     "output_type": "stream",
     "text": [
      "[[ 2.50330472  0.92472817  2.14828139  1.76506035  1.82443381]\n",
      " [ 0.92472817  0.64514463  0.77919563  0.70657685  0.90486922]\n",
      " [ 2.14828139  0.77919563  2.04707798  1.35409197  1.62930757]\n",
      " [ 1.76506035  0.70657685  1.35409197  1.98677238  1.63985053]\n",
      " [ 1.82443381  0.90486922  1.62930757  1.63985053  1.79061439]]\n",
      "\n",
      "[ 0.51224813  0.35388616  0.46463032  0.91907559  0.72807815]\n",
      "\n",
      "[ 7.70351098  0.75009316  0.36381865  0.01016424  0.14532707]\n",
      "\n",
      "A linalg solution:  [-3.774021    2.90844822  3.89741962  3.09503216 -3.59860897]\n",
      "\n",
      "An iterative solution obtained in  875  iterations:  [-3.77385875  2.90833023  3.89723861  3.09491287 -3.59844071]\n",
      "\n",
      "The exact error:  0.000748803976926\n"
     ]
    }
   ],
   "source": [
    "n = 5\n",
    "accuracy = 1e-5\n",
    "\n",
    "A = GenPositiveDefiniteMatrix(n)\n",
    "print(A, end='\\n\\n')\n",
    "\n",
    "b = GenDependentVariables(n)\n",
    "print(b, end='\\n\\n')\n",
    "\n",
    "print(np.linalg.eigvals(A), end='\\n\\n')\n",
    "\n",
    "x_linalg = np.linalg.solve(A, b)\n",
    "print(\"A linalg solution: \", x_linalg, end='\\n\\n')\n",
    "\n",
    "x_jacobi, iters = JacobiMethod(A, b, accuracy)\n",
    "print(\"An iterative solution obtained in \",  iters, \" iterations: \", x_jacobi, end='\\n\\n')\n",
    "print(\"The exact error: \", Norm(x_jacobi - x_linalg))"
   ]
  },
  {
   "cell_type": "code",
   "execution_count": 43,
   "metadata": {},
   "outputs": [
    {
     "name": "stdout",
     "output_type": "stream",
     "text": [
      "[[ 0.          0.36940296  0.85817814  0.70509209  0.72881012]\n",
      " [ 1.43336568  0.          1.20778442  1.0952224   1.4025835 ]\n",
      " [ 1.04943798  0.38063798  0.          0.66147552  0.79591866]\n",
      " [ 0.88840592  0.35564057  0.68155365  0.          0.8253842 ]\n",
      " [ 1.01888705  0.50534008  0.90991538  0.91580328  0.        ]]\n",
      "5.13895599499\n",
      "Estimation of error:  88.7679104374\n"
     ]
    }
   ],
   "source": [
    "'''\n",
    "def MatrixNorm(A):\n",
    "    norm = 0\n",
    "    \n",
    "    for i in range(A.shape[0]):\n",
    "        temp = 0\n",
    "        for j in range(A.shape[1]):\n",
    "            temp += A[i][j]\n",
    "        if (temp > norm):\n",
    "            norm = temp\n",
    "            \n",
    "    return norm\n",
    "    \n",
    "D = np.diag(np.diag(A))\n",
    "R = A - D\n",
    "B = np.dot(np.linalg.inv(D), R)\n",
    "print(B)\n",
    "q = MatrixNorm(B)\n",
    "print(q)\n",
    "print(\"Estimation of error: \", q * Norm(x_linalg))"
   ]
  }
 ],
 "metadata": {
  "kernelspec": {
   "display_name": "Python 3",
   "language": "python",
   "name": "python3"
  },
  "language_info": {
   "codemirror_mode": {
    "name": "ipython",
    "version": 3
   },
   "file_extension": ".py",
   "mimetype": "text/x-python",
   "name": "python",
   "nbconvert_exporter": "python",
   "pygments_lexer": "ipython3",
   "version": "3.6.1"
  }
 },
 "nbformat": 4,
 "nbformat_minor": 2
}
