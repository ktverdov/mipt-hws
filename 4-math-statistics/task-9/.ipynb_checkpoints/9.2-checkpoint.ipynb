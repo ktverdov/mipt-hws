{
 "cells": [
  {
   "cell_type": "markdown",
   "metadata": {},
   "source": [
    "#### Задача 9.2"
   ]
  },
  {
   "cell_type": "code",
   "execution_count": 3,
   "metadata": {
    "collapsed": true
   },
   "outputs": [],
   "source": [
    "import numpy as np\n",
    "import numpy.linalg as la\n",
    "import matplotlib.pyplot as plt\n",
    "import scipy.stats as sps\n",
    "\n",
    "%matplotlib inline"
   ]
  },
  {
   "cell_type": "code",
   "execution_count": 4,
   "metadata": {},
   "outputs": [],
   "source": [
    "data = np.genfromtxt('Regression.csv')\n",
    "N = len(data)"
   ]
  },
  {
   "cell_type": "markdown",
   "metadata": {},
   "source": [
    "Сводим задачу к линейной модели аналогично задаче 9.2 из семинаров:\n",
    "\n",
    "$Y_0 = \\beta_1 + \\varepsilon_0$, \n",
    "\n",
    "$\\forall i\\ge1$ $Y_i = X_i - X_{i - 1} = \\beta_2 + \\varepsilon_i$"
   ]
  },
  {
   "cell_type": "code",
   "execution_count": 5,
   "metadata": {},
   "outputs": [],
   "source": [
    "#количество оцениваемых величин\n",
    "k = 2\n",
    "#преобразуем data\n",
    "y = np.zeros(N)\n",
    "y[0] = data[0]\n",
    "for i in range(1, N):\n",
    "    y[i] = data[i] - data[i - 1]"
   ]
  },
  {
   "cell_type": "code",
   "execution_count": 6,
   "metadata": {},
   "outputs": [
    {
     "name": "stdout",
     "output_type": "stream",
     "text": [
      "[[ 1.  0.]\n",
      " [ 0.  1.]\n",
      " [ 0.  1.]\n",
      " ..., \n",
      " [ 0.  1.]\n",
      " [ 0.  1.]\n",
      " [ 0.  1.]]\n"
     ]
    }
   ],
   "source": [
    "#заполним матрицу z:\n",
    "z =  np.stack((np.zeros(N), np.ones(N).T), axis=1)\n",
    "z[0] = [1, 0]\n",
    "print(z)"
   ]
  },
  {
   "cell_type": "markdown",
   "metadata": {},
   "source": [
    "$\\beta^* = (Z^TZ)^{-1}\\,Z^TY$\n",
    "\n",
    "$(\\sigma^*)^2 = \\frac{1}{N - k}\\|Y - Z\\,\\beta^*\\|^2$"
   ]
  },
  {
   "cell_type": "code",
   "execution_count": 7,
   "metadata": {},
   "outputs": [],
   "source": [
    "betas = np.dot(np.dot(la.inv(np.dot(z.T, z)), z.T), y)\n",
    "sigma2 = la.norm(y - np.dot(z, betas)) / (N - k)\n",
    "disp_t = sigma2 / (betas[1] ** 2)"
   ]
  },
  {
   "cell_type": "code",
   "execution_count": 15,
   "metadata": {},
   "outputs": [
    {
     "name": "stdout",
     "output_type": "stream",
     "text": [
      "Начальное расстояние:  104.9407\n",
      "Скорость:  13.9328843844\n",
      "sigma^2:  0.0470982386922\n",
      "Дисперсия отсчета времени:  0.00024261776612\n"
     ]
    }
   ],
   "source": [
    "print(\"Начальное расстояние: \", betas[0])\n",
    "print(\"Скорость: \", betas[1])\n",
    "print(\"sigma^2: \", sigma2)\n",
    "print(\"Дисперсия отсчета времени: \", disp_t)"
   ]
  }
 ],
 "metadata": {
  "kernelspec": {
   "display_name": "Python 3",
   "language": "python",
   "name": "python3"
  },
  "language_info": {
   "codemirror_mode": {
    "name": "ipython",
    "version": 3
   },
   "file_extension": ".py",
   "mimetype": "text/x-python",
   "name": "python",
   "nbconvert_exporter": "python",
   "pygments_lexer": "ipython3",
   "version": "3.6.3"
  }
 },
 "nbformat": 4,
 "nbformat_minor": 2
}
