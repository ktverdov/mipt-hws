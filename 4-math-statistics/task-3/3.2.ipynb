{
 "cells": [
  {
   "cell_type": "markdown",
   "metadata": {
    "deletable": true,
    "editable": true
   },
   "source": [
    "#### Задача 3.2"
   ]
  },
  {
   "cell_type": "code",
   "execution_count": 10,
   "metadata": {
    "collapsed": true,
    "deletable": true,
    "editable": true
   },
   "outputs": [],
   "source": [
    "import numpy as np\n",
    "import matplotlib.pyplot as plt"
   ]
  },
  {
   "cell_type": "markdown",
   "metadata": {
    "deletable": true,
    "editable": true
   },
   "source": [
    "Функция правдоподобия $\\frac{1}{(\\pi)^n \\cdot \\prod\\limits_{i=1}^n ((x_i - x_0)^2 + 1)}$ максимальна, когда \n",
    "максимальна логарифмическая функция правдоподобия: $-n \\cdot \\ln(\\pi) - \\sum\\limits_{i=1}^n \\ln((x_i - x_0)^2 + 1)$,\n",
    "т.е. минимально $\\sum\\limits_{i=1}^n ((x_i - x_0)^2 + 1)$."
   ]
  },
  {
   "cell_type": "code",
   "execution_count": 11,
   "metadata": {
    "collapsed": true,
    "deletable": true,
    "editable": true
   },
   "outputs": [],
   "source": [
    "def FindingMaxArg(data):\n",
    "    arg = -1000\n",
    "    f_min = sum(1 + ((data - arg) ** 2))\n",
    "    \n",
    "    step = 0.01\n",
    "    i = -1000\n",
    "    \n",
    "    while i <= 1000:\n",
    "        tmp_f = sum(1 + ((data - i) ** 2))\n",
    "        if tmp_f <= f_min:\n",
    "            arg = i\n",
    "            f_min = tmp_f\n",
    "        i = i + step\n",
    "    return arg"
   ]
  },
  {
   "cell_type": "code",
   "execution_count": 12,
   "metadata": {
    "collapsed": false,
    "deletable": true,
    "editable": true
   },
   "outputs": [],
   "source": [
    "data = np.loadtxt('Cauchy.csv', delimiter=',')"
   ]
  },
  {
   "cell_type": "code",
   "execution_count": 13,
   "metadata": {
    "collapsed": false,
    "deletable": true,
    "editable": true
   },
   "outputs": [
    {
     "data": {
      "text/plain": [
       "334.0799999990767"
      ]
     },
     "execution_count": 13,
     "metadata": {},
     "output_type": "execute_result"
    }
   ],
   "source": [
    "FindingMaxArg(data[:(len(data) // 2)])"
   ]
  },
  {
   "cell_type": "code",
   "execution_count": 14,
   "metadata": {
    "collapsed": false,
    "deletable": true,
    "editable": true
   },
   "outputs": [
    {
     "data": {
      "text/plain": [
       "328.03999999908217"
      ]
     },
     "execution_count": 14,
     "metadata": {},
     "output_type": "execute_result"
    }
   ],
   "source": [
    "FindingMaxArg(data)"
   ]
  }
 ],
 "metadata": {
  "kernelspec": {
   "display_name": "Python 3",
   "language": "python",
   "name": "python3"
  },
  "language_info": {
   "codemirror_mode": {
    "name": "ipython",
    "version": 3
   },
   "file_extension": ".py",
   "mimetype": "text/x-python",
   "name": "python",
   "nbconvert_exporter": "python",
   "pygments_lexer": "ipython3",
   "version": "3.5.2"
  }
 },
 "nbformat": 4,
 "nbformat_minor": 2
}
