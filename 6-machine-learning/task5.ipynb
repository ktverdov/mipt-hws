{
 "cells": [
  {
   "cell_type": "markdown",
   "metadata": {},
   "source": [
    "<span style=\"font-size: 14pt\">MIPT, Advanced ML, Spring 2018</span>\n",
    "\n",
    "<span style=\"font-size: 16pt\"> HW #5: Linear Models \n",
    "\n",
    "<span style=\"color:blue; font-size: 12pt\">Alexey Romanenko </span>,\n",
    "<span style=\"color:blue; font-size: 12pt; font-family: 'Verdana'\"> alexromsput@gmail.com</span>\n"
   ]
  },
  {
   "cell_type": "markdown",
   "metadata": {},
   "source": [
    "<h1 align=\"center\">Organization Info</h1> \n",
    "\n",
    "* Дедлайн **11 апреля 2018 02:59** для всех групп.\n",
    "* В качестве решения задания нужно прислать ноутбук с подробными комментариями (<span style='color:red'> без присланного решения результат контеста не будет засчитан </span>).\n",
    "* <span style='color:red'>Название команды в контесте должно соответствовать шаблону: НомерГруппы_Имя_Фамилия, например, 594_Ivan_Ivanov</span>."
   ]
  },
  {
   "cell_type": "markdown",
   "metadata": {},
   "source": [
    "**Оформление дз**: \n",
    "- Присылайте выполненное задание на почту ``ml.course.mipt@gmail.com``\n",
    "- Укажите тему письма в следующем формате ``ML2018_fall_<номер_группы>_<фамилия>``, к примеру -- ``ML2018_fall_495_ivanov``\n",
    "- Выполненное дз сохраните в файл ``<фамилия>_<группа>_task<номер>.ipnb, к примеру`` -- ``ivanov_401_task5.ipnb``\n",
    "\n",
    "**Вопросы**:\n",
    "- Присылайте вопросы на почту ``ml.course.mipt@gmail.com``\n",
    "- Укажите тему письма в следующем формате ``ML2018_fall Question <Содержание вопроса>``\n",
    "\n",
    "\n",
    "--------\n",
    "- **PS1:** Используются автоматические фильтры, и просто не найдем ваше дз, если вы неаккуратно его подпишите.\n",
    "- **PS2:**  Просроченный дедлайн снижает максимальный вес задания по формуле, указнной на первом семинаре\n",
    "- **PS3:** Допустимы исправление кода предложенного кода ниже, если вы считаете"
   ]
  },
  {
   "cell_type": "markdown",
   "metadata": {},
   "source": [
    "<h1 align=\"center\">Check Questions </h1> "
   ]
  },
  {
   "cell_type": "markdown",
   "metadata": {},
   "source": [
    "Ниже приводится список вопросов, с ответами на которые может быть полезно разобраться\n",
    "для понимания темы.\n",
    "\n",
    "**1.** Как выглядит решающее правило в линейной классификации? А зависимость, которой мы приближаем ответы в линейной регрессии?\n",
    "\n",
    "**2.** Что такое функции потерь в задачах классификации и регрессии? Зачем они нужны?\n",
    "\n",
    "**3.** Что такое регуляризаторы? Какими они бывают в задачах линейной классификации и регрессии? Зачем они нужны?\n",
    "\n",
    "**4.** Как в общем виде выглядит оптимизационная задача в линейной классификации или линейной регрессии?\n",
    "\n",
    "**5.** Как работает настройка весов в линейной модели с помощью SGD (Stochastic Gradient Decent)? Как выглядит правило обновления весов?\n",
    "\n",
    "**6.** Учитывается ли коэффициент сдвига w0 в регуляризаторе? Почему?\n",
    "\n",
    "**7.** Почему линейные модели рекомендуется применять к выборке с нормированными значениями признаков?\n",
    "\n",
    "**8.** Как выглядит оптимизационная задача в логистической регрессии? А в SVM?\n",
    "\n",
    "**9.** Выпишите и докажите формулу для весов в линейной регрессии (с квадратичной функцией потерь).\n",
    "То же самое для гребневой регрессии.\n",
    "\n",
    "**10.** Выпишите SGD для логистической регрессии с $l2$-регуляризацией и для SVM с линейным ядром.\n",
    "\n",
    "**11.** В чем заключается идея ядер в SVM?\n",
    "\n",
    "**12.** Какие преимущества и недостатки есть у линейных моделей?\n",
    "\n",
    "**13.** На какие 3 матрицы раскладывается произвольная матрица при SVD? Что такое сингулярные числа"
   ]
  },
  {
   "cell_type": "markdown",
   "metadata": {},
   "source": [
    "<h1 align=\"center\">Contest 1 (40%)</h1> \n",
    "** Ссылка на контест: ** https://www.kaggle.com/t/68e2660e41d94d64a3c2251a1df16ab3"
   ]
  },
  {
   "cell_type": "markdown",
   "metadata": {},
   "source": [
    "# Критерии оценивания\n",
    "Для того чтобы получить оценку нужно\n",
    "* 1) прислать код вашей модели (можно использовать только линейные модели), которая выдает один из финальных сабмиттов.\n",
    "* 2) чтобы получить\n",
    "    - хор (5)  и выше нужно превзойти результат benchmark_1;\n",
    "    - отл (8) и выше нужно превзойти результат benchmark_2;\n",
    "* 3) Ваше имя в лидерборде должно иметь вид <НомерГруппы>\\_Имя\\_Фамилия, например: 594\\_Иван\\_Иванов. Если имя не будет соответствовать формату организаторы вправе снизить оценку."
   ]
  },
  {
   "cell_type": "markdown",
   "metadata": {},
   "source": [
    "#### Краткое описание того, что предпринималось для построения модели:"
   ]
  },
  {
   "cell_type": "code",
   "execution_count": 1,
   "metadata": {
    "collapsed": true
   },
   "outputs": [],
   "source": [
    "import pandas as pd\n",
    "import numpy as np\n",
    "import seaborn as sns\n",
    "\n",
    "from sklearn.linear_model import LogisticRegression\n",
    "from sklearn.svm import SVC\n",
    "from sklearn.svm import LinearSVC\n",
    "\n",
    "\n",
    "from sklearn.model_selection import cross_val_score\n",
    "from sklearn.model_selection import GridSearchCV\n",
    "\n",
    "from imblearn.over_sampling import SMOTE, ADASYN\n",
    "\n",
    "import matplotlib.pyplot as plt\n",
    "%matplotlib inline"
   ]
  },
  {
   "cell_type": "code",
   "execution_count": 2,
   "metadata": {
    "collapsed": true
   },
   "outputs": [],
   "source": [
    "df_train = pd.read_csv('train.csv')\n",
    "df_train.drop('id', axis=1, inplace=True)\n",
    "\n",
    "X_train = df_train.loc[:, df_train.columns != 'label']\n",
    "Y_train = df_train['label']"
   ]
  },
  {
   "cell_type": "code",
   "execution_count": 3,
   "metadata": {},
   "outputs": [
    {
     "data": {
      "image/png": "[encoded data removed]",
      "text/plain": [
       "<matplotlib.figure.Figure at 0x7efbfc26cc18>"
      ]
     },
     "metadata": {},
     "output_type": "display_data"
    }
   ],
   "source": [
    "#смотрим на данные\n",
    "for column in X_train.columns:\n",
    "    sns.kdeplot(X_train[column], legend=False)\n",
    "\n",
    "#все около нуля, длинный хвост справа"
   ]
  },
  {
   "cell_type": "code",
   "execution_count": 4,
   "metadata": {},
   "outputs": [
    {
     "data": {
      "image/png": "[encoded data removed]",
      "text/plain": [
       "<matplotlib.figure.Figure at 0x7efbc436e898>"
      ]
     },
     "metadata": {},
     "output_type": "display_data"
    }
   ],
   "source": [
    "#применяем логарифмическое преобразование для каждой фичи\n",
    "\n",
    "for column in X_train.columns:\n",
    "    sns.kdeplot(np.log(X_train[column] + 1), legend=False)\n",
    "\n",
    "#выглядит лучше\n",
    "#заметно несколько пиков, но в итоге я их никак не обработал"
   ]
  },
  {
   "cell_type": "code",
   "execution_count": 5,
   "metadata": {},
   "outputs": [
    {
     "name": "stdout",
     "output_type": "stream",
     "text": [
      "   label  Percentage\n",
      "1    573   63.666667\n",
      "0    327   36.333333\n"
     ]
    }
   ],
   "source": [
    "#как и говорили, выборка несбалансирована, появилась идея познакомиться с oversampling\n",
    "\n",
    "df = pd.DataFrame(Y_train.value_counts())\n",
    "df['Percentage'] = 100 * df['label'] / Y_train.shape[0]\n",
    "print(df)"
   ]
  },
  {
   "cell_type": "code",
   "execution_count": null,
   "metadata": {
    "collapsed": true
   },
   "outputs": [],
   "source": [
    "#для oversampling использовались SMOTE и ADASYN\n",
    "#дальше по cross_val смотрелся score для различных классификаторов, некоторые примеры ниже"
   ]
  },
  {
   "cell_type": "code",
   "execution_count": 6,
   "metadata": {},
   "outputs": [
    {
     "name": "stdout",
     "output_type": "stream",
     "text": [
      "0.955191929347\n",
      "0.947874425278\n"
     ]
    }
   ],
   "source": [
    "clf = LogisticRegression(penalty='l2', C=0.2)\n",
    "\n",
    "X_resampled, y_resampled = SMOTE().fit_sample(X_train, Y_train)\n",
    "score = cross_val_score(clf, X_resampled, y_resampled, scoring='roc_auc', cv=5).mean()\n",
    "print(score)\n",
    "\n",
    "X_resampled, y_resampled = ADASYN().fit_sample(X_train, Y_train)\n",
    "score = cross_val_score(clf, X_resampled, y_resampled, scoring='roc_auc', cv=5).mean()\n",
    "print(score)"
   ]
  },
  {
   "cell_type": "code",
   "execution_count": 13,
   "metadata": {},
   "outputs": [
    {
     "name": "stdout",
     "output_type": "stream",
     "text": [
      "0.983477430019\n",
      "0.97978973274\n"
     ]
    }
   ],
   "source": [
    "clf = SVC(kernel='poly', degree=5)\n",
    "\n",
    "X_resampled, y_resampled = SMOTE().fit_sample(X_train, Y_train)\n",
    "score = cross_val_score(clf, X_resampled, y_resampled, scoring='roc_auc', cv=5).mean()\n",
    "print(score)\n",
    "\n",
    "X_resampled, y_resampled = ADASYN().fit_sample(X_train, Y_train)\n",
    "score = cross_val_score(clf, X_resampled, y_resampled, scoring='roc_auc', cv=5).mean()\n",
    "print(score)"
   ]
  },
  {
   "cell_type": "code",
   "execution_count": 15,
   "metadata": {},
   "outputs": [
    {
     "name": "stdout",
     "output_type": "stream",
     "text": [
      "{'C': 0.001, 'degree': 4, 'gamma': 0.001}\n"
     ]
    }
   ],
   "source": [
    "#в итоге был выбран SVC, для которого был произведен подбор параметров\n",
    "\n",
    "Cs = [0.001, 0.01, 0.1, 1, 10]\n",
    "gammas = [0.001, 0.01, 0.1, 1]\n",
    "degrees = [2, 3, 4, 5, 6, 7]\n",
    "param_grid = {'C': Cs, 'gamma' : gammas, 'degree' : degrees}\n",
    "\n",
    "grid_search = GridSearchCV(SVC(kernel='poly'), param_grid, scoring='roc_auc', cv=10)\n",
    "grid_search.fit(X_resampled, y_resampled)\n",
    "print(grid_search.best_params_)\n",
    "\n",
    "# при тестировании лучшими параметрами были : {'C': 0.001, 'degree': 6, 'gamma': 0.1}\n",
    "# проблема я так понимаю в том, что я не указываю random seed"
   ]
  },
  {
   "cell_type": "markdown",
   "metadata": {},
   "source": [
    "#### Код окончательной попытки:"
   ]
  },
  {
   "cell_type": "code",
   "execution_count": 16,
   "metadata": {
    "collapsed": true
   },
   "outputs": [],
   "source": [
    "import pandas as pd\n",
    "import numpy as np\n",
    "from sklearn.svm import SVC\n",
    "from imblearn.over_sampling import SMOTE"
   ]
  },
  {
   "cell_type": "code",
   "execution_count": 17,
   "metadata": {
    "collapsed": true
   },
   "outputs": [],
   "source": [
    "df_train = pd.read_csv('train.csv')\n",
    "df_train.drop('id', axis=1, inplace=True)\n",
    "\n",
    "X_train = df_train.loc[:, df_train.columns != 'label']\n",
    "Y_train = df_train['label']"
   ]
  },
  {
   "cell_type": "code",
   "execution_count": 18,
   "metadata": {
    "collapsed": true
   },
   "outputs": [],
   "source": [
    "X_train = np.log(X_train + 1)"
   ]
  },
  {
   "cell_type": "code",
   "execution_count": 19,
   "metadata": {},
   "outputs": [
    {
     "data": {
      "text/plain": [
       "SVC(C=0.001, cache_size=200, class_weight=None, coef0=0.0,\n",
       "  decision_function_shape='ovr', degree=6, gamma=0.1, kernel='poly',\n",
       "  max_iter=-1, probability=False, random_state=None, shrinking=True,\n",
       "  tol=0.001, verbose=False)"
      ]
     },
     "execution_count": 19,
     "metadata": {},
     "output_type": "execute_result"
    }
   ],
   "source": [
    "clf = SVC(kernel='poly', C=0.001, degree=6,gamma=0.1)\n",
    "\n",
    "X_resampled, y_resampled = SMOTE().fit_sample(X_train, Y_train)\n",
    "clf.fit(X_resampled, y_resampled)"
   ]
  },
  {
   "cell_type": "code",
   "execution_count": 20,
   "metadata": {
    "collapsed": true
   },
   "outputs": [],
   "source": [
    "df_test = pd.read_csv('test.csv')\n",
    "df_test.drop('id', axis=1, inplace=True)"
   ]
  },
  {
   "cell_type": "code",
   "execution_count": 21,
   "metadata": {
    "collapsed": true
   },
   "outputs": [],
   "source": [
    "df_test = np.log(df_test + 1)\n",
    "y_pred = clf.predict(df_test)"
   ]
  },
  {
   "cell_type": "code",
   "execution_count": 22,
   "metadata": {
    "collapsed": true
   },
   "outputs": [],
   "source": [
    "df_out = pd.DataFrame({\"id\" : range(1, 1 + len(y_pred)), \"label\" : y_pred})\n",
    "df_out.to_csv(\"sample_submission_3.csv\", index=False)"
   ]
  },
  {
   "cell_type": "markdown",
   "metadata": {},
   "source": [
    "<h1 align=\"center\">Contest 2 (40%)</h1> \n",
    "* Ссылка на контест: https://www.kaggle.com/t/2343d1882c6842258e3825b4a8a1e5a8\n",
    "\n",
    "# Критерии оценивания\n",
    "Для того чтобы получить оценку нужно\n",
    "* 1) Прислать код вашей модели, которая выдает один из финальных сабмиттов.\n",
    "* 2) чтобы получить\n",
    "    - хор (5)  и выше нужно превзойти результат benchmark_1;\n",
    "    - отл (8) и выше нужно превзойти результат benchmark_2;\n",
    "* 3) Ваше имя в лидерборде должно иметь вид <НомерГруппы>\\_Имя\\_Фамилия, например: 594\\_Иван\\_Иванов. Если имя не будет соответствовать формату организаторы вправе снизить оценку."
   ]
  },
  {
   "cell_type": "code",
   "execution_count": 23,
   "metadata": {
    "collapsed": true
   },
   "outputs": [],
   "source": [
    "# import pandas as pd\n",
    "from sklearn.feature_extraction.text import CountVectorizer, TfidfVectorizer\n",
    "from sklearn.model_selection import cross_val_score\n",
    "from sklearn.linear_model import LogisticRegression\n",
    "\n",
    "from sklearn.pipeline import Pipeline, make_pipeline"
   ]
  },
  {
   "cell_type": "code",
   "execution_count": 25,
   "metadata": {},
   "outputs": [
    {
     "name": "stdout",
     "output_type": "stream",
     "text": [
      "(30000, 4)\n"
     ]
    },
    {
     "data": {
      "image/png": "[encoded data removed]",
      "text/plain": [
       "<matplotlib.figure.Figure at 0x7efbc3ee1400>"
      ]
     },
     "metadata": {},
     "output_type": "display_data"
    }
   ],
   "source": [
    "df_train = pd.read_csv('train.csv')\n",
    "print(df_train.shape)\n",
    "\n",
    "fig = plt.figure(figsize=(8,6))\n",
    "df_train.groupby('sentiment').content.count().plot.bar(ylim=0)\n",
    "plt.show()"
   ]
  },
  {
   "cell_type": "markdown",
   "metadata": {},
   "source": [
    "Опять несбалансированность, но в этот раз ничего не делаем (не понятно что можно предпринять).\n",
    "\n",
    "*Что дальше:*\n",
    "\n",
    "Пользуемся идеей Bag of Words. Применяем CountVectorizer, TfidfVectorizer (первый, что довольно странно, показывает себя лучше). Тестируем с разными параметрами - использование стоп-слов \"english\" ухудшает score, добавление биграмм, ... - аналогично.\n",
    "\n",
    "Тестируем с разными классификаторами, Логарифмическая Регрессия показывает себя лучше всех.\n",
    "\n",
    "Как результат - следующий код:"
   ]
  },
  {
   "cell_type": "code",
   "execution_count": 26,
   "metadata": {},
   "outputs": [
    {
     "name": "stdout",
     "output_type": "stream",
     "text": [
      "{'reg__C': 0.1, 'reg__penalty': 'l2', 'vect__min_df': 3}\n"
     ]
    }
   ],
   "source": [
    "df_train = pd.read_csv('train.csv')\n",
    "\n",
    "pipe = Pipeline([('vect', CountVectorizer()), ('reg', LogisticRegression())])\n",
    "\n",
    "param_grid = {'vect__min_df': [3], 'reg__C': [1e-5, 1e-3, 1e-1, 1e0, 1e1, 1e2], \n",
    "                'reg__penalty': ['l2', 'l1']}\n",
    "\n",
    "grid = GridSearchCV(pipe, cv=3, n_jobs=1, param_grid=param_grid, scoring='accuracy')\n",
    "grid.fit(df_train.content, df_train.sentiment)\n",
    "\n",
    "print(grid.best_params_)"
   ]
  },
  {
   "cell_type": "code",
   "execution_count": 27,
   "metadata": {
    "collapsed": true
   },
   "outputs": [],
   "source": [
    "pipeline = make_pipeline(CountVectorizer(min_df=3), LogisticRegression(penalty='l2', C=0.1))"
   ]
  },
  {
   "cell_type": "code",
   "execution_count": 28,
   "metadata": {},
   "outputs": [
    {
     "data": {
      "text/plain": [
       "Pipeline(memory=None,\n",
       "     steps=[('countvectorizer', CountVectorizer(analyzer='word', binary=False, decode_error='strict',\n",
       "        dtype=<class 'numpy.int64'>, encoding='utf-8', input='content',\n",
       "        lowercase=True, max_df=1.0, max_features=None, min_df=3,\n",
       "        ngram_range=(1, 1), preprocessor=None, stop_words=None,\n",
       "  ...ty='l2', random_state=None, solver='liblinear', tol=0.0001,\n",
       "          verbose=0, warm_start=False))])"
      ]
     },
     "execution_count": 28,
     "metadata": {},
     "output_type": "execute_result"
    }
   ],
   "source": [
    "pipeline.fit(df_train.content, df_train.sentiment)"
   ]
  },
  {
   "cell_type": "code",
   "execution_count": 29,
   "metadata": {
    "collapsed": true
   },
   "outputs": [],
   "source": [
    "df_test = pd.read_csv('test.csv')\n",
    "\n",
    "y_pred = pipeline.predict(df_test.content)\n",
    "df_out = pd.DataFrame({\"id\" : df_test.id, \"sentiment\" : y_pred})\n",
    "df_out.to_csv(\"sampleSubmission.csv\", index=False)"
   ]
  },
  {
   "cell_type": "markdown",
   "metadata": {},
   "source": [
    "<h1 align=\"center\">Теоретические задачи (20%)</h1> \n",
    "\n",
    "** Задача 1**\n",
    "Покажите, что регуляризатор в задаче линейной классификации имеет вероятностный смысл априорного распределения параметров моделей. Какие распределения задают 𝑙1-регуляризатор и 𝑙2-регуляризатор?\n",
    "\n",
    "** Задача 2**\n",
    "Покажите, что в случае линейно разделимой выборки функционал, максимизируемый при обучении логистической регрессии, достигает своего максимума в бесконечности (при бесконечно больших значениях компонент вектора весов), а значит для процесса обучения необходимо добавить регуляризационный член.\n",
    "\n",
    "** Задача 3**\n",
    "Задана выборка объектов, каждый из которых принадлежит одному из двух классов $Y = \\{1; -1\\}$. В некотором спрямляющем пространстве, задаваемом ядром $K_1(x_1; x_2)$, эта выборка является линейно разделимой, а в некотором спрямляющем пространстве, задаваемом ядром $K_2(x_1; x_2)$, не является линейно разделимой. Существует ли спрямляемое пространство, задаваемое ядром $K(x_1; x_2) = K_1(x_1; x_2) + K_2(x_1; x_2)$, в котором эта выборка будет линейно разделимой?\n",
    "\n",
    "** Задача 4**\n",
    "Покажите, что если предварительно центрировать выборку в задаче линейной регрессии, то параметр сдвига $𝑤_0$ (коэффициент перед константой) получится равным нулю."
   ]
  }
 ],
 "metadata": {
  "kernelspec": {
   "display_name": "Python 3",
   "language": "python",
   "name": "python3"
  },
  "language_info": {
   "codemirror_mode": {
    "name": "ipython",
    "version": 3
   },
   "file_extension": ".py",
   "mimetype": "text/x-python",
   "name": "python",
   "nbconvert_exporter": "python",
   "pygments_lexer": "ipython3",
   "version": "3.6.3"
  }
 },
 "nbformat": 4,
 "nbformat_minor": 1
}
