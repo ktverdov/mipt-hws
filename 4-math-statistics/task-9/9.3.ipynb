{
 "cells": [
  {
   "cell_type": "markdown",
   "metadata": {
    "deletable": true,
    "editable": true
   },
   "source": [
    "#### Задача 9.3"
   ]
  },
  {
   "cell_type": "code",
   "execution_count": null,
   "metadata": {
    "collapsed": true,
    "deletable": true,
    "editable": true
   },
   "outputs": [],
   "source": [
    "import numpy as np\n",
    "import scipy.stats as sps\n",
    "import matplotlib.pyplot as plt\n",
    "\n",
    "%matplotlib inline"
   ]
  },
  {
   "cell_type": "code",
   "execution_count": null,
   "metadata": {
    "collapsed": true,
    "deletable": true,
    "editable": true
   },
   "outputs": [],
   "source": [
    "N = 100\n",
    "sample = sps.norm.rvs(size=N)\n",
    "gamma = 0.95"
   ]
  },
  {
   "cell_type": "code",
   "execution_count": null,
   "metadata": {
    "collapsed": true,
    "deletable": true,
    "editable": true
   },
   "outputs": [],
   "source": [
    "def lower_bound(sample, alpha, n=0):\n",
    "    if n:\n",
    "        return np.mean(sample[:n]) / (0.5 + np.sqrt(1 / (12 * (1 - alpha) * n)))\n",
    "    else:\n",
    "        return np.array([np.mean(sample[:i]) / \n",
    "                         (0.5 + np.sqrt(1 / (12 * (1 - alpha) * i)))\n",
    "                             for i in range(1, len(sample) + 1)])\n",
    "\n",
    "def upper_bound(sample, alpha, n=0):\n",
    "    if n:\n",
    "        return np.mean(sample[:n]) / (0.5 - np.sqrt(1 / (12 * (1 - alpha) * n)))\n",
    "    else:\n",
    "        return np.array([np.mean(sample[:i]) / (\n",
    "                        0.5 - np.sqrt(1 / (12 * (1 - alpha) * i)))\n",
    "                             for i in range(1, len(sample) + 1)])\n",
    "    \n",
    "fig, ax = plt.subplots(figsize=(4,4))\n",
    "ax.axhline(theta, color='green')\n",
    "ax.fill_between(np.arange(1, sample_size + 1), lower_bound(sample, alpha), \n",
    "                upper_bound(sample, alpha), color='orange')\n",
    "plt.ylim(0, 2)\n",
    "plt.title('Для сравнения с ДИ для ${X_n}$')\n",
    "plt.grid(ls=':')\n",
    "plt.show()"
   ]
  }
 ],
 "metadata": {
  "kernelspec": {
   "display_name": "Python 3",
   "language": "python",
   "name": "python3"
  },
  "language_info": {
   "codemirror_mode": {
    "name": "ipython",
    "version": 3
   },
   "file_extension": ".py",
   "mimetype": "text/x-python",
   "name": "python",
   "nbconvert_exporter": "python",
   "pygments_lexer": "ipython3",
   "version": "3.5.2"
  }
 },
 "nbformat": 4,
 "nbformat_minor": 2
}
