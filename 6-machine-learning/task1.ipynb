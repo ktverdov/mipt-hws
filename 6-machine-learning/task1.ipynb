{
 "cells": [
  {
   "cell_type": "markdown",
   "metadata": {
    "colab_type": "text",
    "id": "hFHh2bUGocsK"
   },
   "source": [
    "<span style=\"font-size: 14pt\">Домашнее задание №1 </span>\n",
    "\n",
    "<span style=\"color: red; font-size: 14pt\">Deadline: 27.02.2018 23:59:59</span>\n",
    "\n",
    "<span style=\"font-size: 10pt\">ФИВТ, АПТ, Курс по машинному обучению, Весна 2018</span>\n",
    "\n",
    "<span style=\"color:blue; font-size: 10pt\">Alexey Romanenko, </span>\n",
    "<span style=\"color:blue; font-size: 10pt; font-family: 'Verdana'\">alexromsput@gmail.com</span>\n"
   ]
  },
  {
   "cell_type": "markdown",
   "metadata": {
    "colab_type": "text",
    "id": "WXvyDQaNocsL"
   },
   "source": [
    "<h1 align=\"center\">Organization Info</h1> "
   ]
  },
  {
   "cell_type": "markdown",
   "metadata": {
    "colab_type": "text",
    "id": "eHrRSs0qocsM"
   },
   "source": [
    "**Дополнительный материал для выполнения дз**:\n",
    "- Воронцов К. В. Математические методы обучения по прецедентам. 2012. \n",
    "- Мерков А. Б. Распознавание образов. Введение в методы статистического обучения. Едиториал УРСС. 2011. 256 стр.\n",
    "- Hastie T., Tibshirani R., Friedman J. The Elements of Statistical Learning. Springer: Data Mining, Inference, and Prediction. — 2nd ed. — Springer-Verlag. 2009. — 746 p.\n",
    "- C. M. Bishop. Pattern Recognition and Machine Learning. — Springer, Series: Information Science and Statistics. 2006. — 738 p.\n",
    "\n",
    "**Оформление дз**: \n",
    "- Присылайте выполненное задание на почту ``ml.course.mipt@gmail.com``\n",
    "- Укажите тему письма в следующем формате ``ML2018_fall <номер_группы> <фамилия>``, к примеру -- ``ML2018_fall 596 ivanov``\n",
    "- Выполненное дз сохраните в файл ``ML2018_<фамилия>_<группа>_task<номер задания>.ipnb``, к примеру -- ``ML2018_ivanov_596_task1.ipnb``\n",
    "\n",
    "**Вопросы**:\n",
    "- Присылайте вопросы на почту ``ml.course.mipt@gmail.com``\n",
    "- Укажите тему письма в следующем формате ``ML2018_fall Question <Содержание вопроса>``\n",
    "\n",
    "--------\n",
    "- **PS1**: Используются автоматические фильтры, и просто не найдем ваше дз, если вы неаккуратно его подпишите.\n",
    "- **PS2**: Просроченный дедлайн снижает максимальный вес задания по формуле, указнной на первом семинаре\n",
    "- **PS3**: Допустимы исправление кода предложенного кода ниже, если вы считаете"
   ]
  },
  {
   "cell_type": "markdown",
   "metadata": {
    "colab_type": "text",
    "id": "20a7jXNeocsN"
   },
   "source": [
    "<h1 align=\"center\"> Вопросы для самоконтроля </h1> \n",
    "\n",
    "Ниже приводится список вопросов, с ответами на которые может быть полезно разобраться для комфортного выполнения задания.\n",
    "\n",
    "* Основные понятия\n",
    "    1. Что такое задачи классификации, кластеризации и регрессии? Какие из них относятся к supervised learning, а какие - к unsupervised learning?\n",
    "    2. Что такое переобучение и недообучение? Как их можно детектировать?\n",
    "    3. Что такое обучающая и тестовая выборки, кросс-валидация? Как устроена k-fold cross validation?\n",
    "    4. Разложение ошибки метода обучения на bias и Variance: как ведут себя обе величины, когда увеличивается сложность семейства настраиваемых алгоритмов?\n",
    "\n",
    "\n",
    "* Простые методы\n",
    "    1. Как работает kNN в задаче классификации?\n",
    "    2. Как работает kNN с весами объектов в задаче классификации и в задаче регрессии?\n",
    "    3. Как работает наивный байесовский классификатор, в чем заключается его \"наивность\"?\n",
    "    4. Как приближается исходная зависимость y от x в линейной регрессии и как настраиваются веса в ней?\n",
    "    5. В чем суть проклятия размерности?\n",
    "\n",
    "\n",
    "* Измерение ошибки/точности в задачах классификации и регрессии\n",
    "    1. Как вычисляются и в каких задачах (классификации/регрессии) применяются метрики:\n",
    "    accuracy, precision, recall, F1-measure, ROC-AUC, PR-AUC, MSE, MAE, RMSE?\n",
    "    2. Решается задача бинарной классификации (с двумя классами - 0 и 1), в которой при-\n",
    "    меры из класса 0 составляют 95% выборки. Какие метрики из перечисленных в преды-\n",
    "    дущем вопросе предпочтительней использовать?\n",
    "    3. К оценке какой величины для распределения y при условии x приводят MSE и MAE?\n",
    "    4. Какая из метрик должня использоваться в задаче регрессии, чтобы ответ был равен медиане распределения прогнозируемой случайно величины?\n",
    "\n",
    "\n",
    "* Python, numpy, scipy, matplotlib, sklearn, pandas\n",
    "    1. Типы данных list, tuple, dict, set, str, unicode, hashable и unhashable. \n",
    "    2. Зачем нужны numpy и scipy? Какой тип данных в numpy используется для работы с\n",
    "    многомерными массивами? Отличия в индексации двумерного ndarray и списка списков.\n",
    "    3. Как в scipy решить численно несложную оптимизационную задачу? Какие методы оп-\n",
    "    тимизации в нем представлены?\n",
    "    4. Как по списку значений x и списку значений y в этих точках построить график y(x) в\n",
    "    matplotlib?\n",
    "    5. Как в sklearn обучить модель на обучающей выборке и получить прогнозы на тестовой?\n",
    "    6. Какие есть средства для измерения качества модели в sklearn? Как посчтитать качество\n",
    "    в k-fold cross validation?\n",
    "    7. Какие метрики можно использовать в cross_val_score из sklearn?\n",
    "    8. Как считать выборку из csv в pandas DataFrame? А как записать DataFrame в файл? Как\n",
    "    указывать при чтении/записи кодировку, используемые разделители, наличие/отсутствие\n",
    "    заголовков у колонок?"
   ]
  },
  {
   "cell_type": "markdown",
   "metadata": {
    "colab_type": "text",
    "id": "8MnwU-w2ocsO"
   },
   "source": [
    "<h1 align=\"center\">Теоретические вопросы (2 балла) </h1> "
   ]
  },
  {
   "cell_type": "markdown",
   "metadata": {
    "colab_type": "text",
    "id": "C8ywBercocsP"
   },
   "source": [
    "** Задача 1**\n",
    "Покажите, что ROC-AUC  в случае, когда классификатор даёт случайные ответы $a(x) = 1$ с вероятностью $p$ и $a(x) = 0$ с вероятностью $1 − p$, будет в среднем равен 0.5 независимо от p и доли класса 1 в обучающей выборке.\n",
    "\n",
    "*Решение:* \n",
    "\n",
    "AUC есть площадь под ROC кривой TPR(FPR). \n",
    "\n",
    "Пусть $N_1$ - количество элементов класса $1$ в рассматриваемой выборке, $N_2$ - класса $0$, тогда:\n",
    "\n",
    "$TPR = \\frac{TP}{TP + FN} = \\frac{N_1p}{N_1p + N_1(1-p)} = p$,\n",
    "\n",
    "$FPR = \\frac{FP}{FP + TN} = \\frac{N_0p}{N_0p + N_0(1-p)} = p$.\n",
    "\n",
    "Получили $TPR = FPR = p \\; \\forall N = N_1 + N_2$, значит, полученные по выборке точки ${(TRP, FRP)}$ будут образовывать прямую $y=x, \\,x \\in [0,1]$, слдеовательно AUC=0.5."
   ]
  },
  {
   "cell_type": "markdown",
   "metadata": {
    "colab_type": "text",
    "id": "zvX49k7UocsQ"
   },
   "source": [
    "** Задача 2**\n",
    "Покажите, что с ростом размерности пространства признаков при равномерном распределении точек в кубе $[0; 1]^𝑑$ вероятность попасть в куб $[0; 0, 99]^𝑑$ стремится к нулю. Это одна из иллюстраций проклятия размерностей (dimension curse). Попробуйте придумать или найти еще какую-нибудь иллюстрацию к этому явлению и кратко изложить.\n",
    "\n",
    "*Решение:*\n",
    "\n",
    "Обозначим за $V_{[0,a]}$ объём куба в $d$ мерном пространстве со сторонами длины $a$, тогда отношение $\\frac{V_{[0,0.99]}}{V_{[0,1]}}=0.99^d \\rightarrow 0$. Т.е. почти все признаки будут лежать на поверхности."
   ]
  },
  {
   "cell_type": "markdown",
   "metadata": {
    "colab_type": "text",
    "id": "h9W3dkB7ocsS"
   },
   "source": [
    "<h1 align=\"center\">Исследуйте зависимость Bias-Variance для kNN (3 балла) </h1> "
   ]
  },
  {
   "cell_type": "markdown",
   "metadata": {
    "colab_type": "text",
    "id": "Rf0hpqakocsT"
   },
   "source": [
    "Используя данные из задачи классификации доходов индивидуума http://archive.ics.uci.edu/ml/machine-learning-databases/adult, постройте зависимость величин bias, variance и noise для следующих пар \"модель|параметр\".\n",
    "Предобработка данных (преобразование признаков, разметка классов) определяется вами. \n",
    "\n",
    "* kNN, $n\\_neigbours$ - число соседей при классификации;\n",
    "* $p$ - степень метрики Минковского;\n",
    "* $\\ell\\_train$ - длина обучающий выборки;\n",
    "\n",
    "\n",
    "По каждому построенному графику (для каждого параметра должен быть отдельный график) объясните полученную картину. Совпадает ли она с теоретическими ожиданиями (см. семинар 2)?"
   ]
  },
  {
   "cell_type": "code",
   "execution_count": 1,
   "metadata": {
    "colab": {
     "autoexec": {
      "startup": false,
      "wait_interval": 0
     }
    },
    "colab_type": "code",
    "collapsed": true,
    "id": "wRv68R7XocsU"
   },
   "outputs": [],
   "source": [
    "import numpy as np\n",
    "import pandas as pd\n",
    "import matplotlib.pyplot as plt\n",
    "from scipy.stats import pointbiserialr, spearmanr\n",
    "from sklearn import preprocessing\n",
    "from sklearn.model_selection import train_test_split\n",
    "from sklearn.neighbors import KNeighborsClassifier\n",
    "from tqdm import tqdm\n",
    "\n",
    "%matplotlib inline\n",
    "\n",
    "# Settings\n",
    "n_repeat = 50      # Number of iterations for computing expectations\n",
    "test_size = 0.5       # (Relative) Size of the test set\n",
    "\n",
    "# Исследуемая сетка параметров\n",
    "# пояснение: длина train выборки должна варьироваться от 50% до 200% относительно длины тестовой выборки  \n",
    "parameters = {\"k\": range(1, 20), \"p\":  np.arange(1, 10, 0.5), \"l_train\": np.arange(0.5, 2, 0.1)}\n",
    "\n",
    "\n",
    "# Get Data\n",
    "df = pd.read_csv('https://archive.ics.uci.edu/ml/machine-learning-databases/adult/adult.data', header=None, \n",
    "                 na_values=' ?')\n",
    "columns = ('age workclass fnlwgt education educ-num marital-status occupation relationship '\n",
    "           'race sex capital-gain capital-loss  hours-per-week native-country salary')\n",
    "df.columns = columns.split()\n",
    "\n",
    "#заполняем отсутствующие данные\n",
    "categorical_columns = [i for i in df.columns if df[i].dtype.name == 'object']\n",
    "for i in categorical_columns:\n",
    "    df[i] = df[i].fillna(df.describe(include=[object])[i]['top'])\n",
    "\n",
    "#кодируем категориальные признаки\n",
    "for i in categorical_columns:\n",
    "    meanings, df[i] = np.unique(df[i], return_inverse=True)\n",
    "\n",
    "#нормализуем\n",
    "for i in df.columns:\n",
    "    if i != 'salary':\n",
    "        df[i] = (df[i] - df[i].mean()) / df[i].std()\n",
    "\n",
    "#пробуем отобрать признаки\n",
    "col_names = df.columns\n",
    "param = []\n",
    "corr = []\n",
    "abs_corr = []\n",
    "\n",
    "for i in df.columns:\n",
    "    if i != \"salary\":\n",
    "        c = pointbiserialr(df['salary'],df[i])[0]\n",
    "        \"\"\"\n",
    "        corr = spearmanr(df['salary'], df[i])[0]\n",
    "        if len(df[i].unique()) <= 2:\n",
    "            corr = spearmanr(df['salary'],df[i])[0]\n",
    "        else:\n",
    "            corr = pointbiserialr(df['salary'],df[i])[0]\n",
    "        \"\"\"\n",
    "        param.append(i)\n",
    "        corr.append(c)\n",
    "        abs_corr.append(abs(c))\n",
    "\n",
    "param_df = pd.DataFrame({'correlation':corr,'parameter':param, 'abs_corr':abs_corr})\n",
    "param_df = param_df.sort_values(by=['abs_corr'], ascending=False)\n",
    "param_df = param_df.set_index('parameter')\n",
    "\n",
    "del_columns = ['education', 'race', 'occupation', 'native-country', 'fnlwgt', 'workclass']\n",
    "df.drop(del_columns, axis=1, inplace=True)"
   ]
  },
  {
   "cell_type": "code",
   "execution_count": 2,
   "metadata": {
    "colab": {
     "autoexec": {
      "startup": false,
      "wait_interval": 0
     }
    },
    "colab_type": "code",
    "collapsed": true,
    "id": "IkACHmawocsY"
   },
   "outputs": [],
   "source": [
    "train , test = train_test_split(df, test_size=test_size)\n",
    "\n",
    "\n",
    "# Для того чтобы оценить bias и variance, нужно сгенерировать случайные подвыборки с возвращением из исходного массива данных \n",
    "# (бутстрепинг)\n",
    "X_train = []\n",
    "y_train = []\n",
    "for i in range(n_repeat):\n",
    "    sample_train = train.sample(n=len(train), replace=True)\n",
    "    X, y = sample_train.iloc[:,:(len(df.columns) - 1)], sample_train.iloc[:,(len(df.columns) - 1)]\n",
    "    X_train.append(X)\n",
    "    y_train.append(y)\n",
    "    \n",
    "X_test, y_test = test.iloc[:,:(len(df.columns) - 1)], test.iloc[:,(len(df.columns) - 1)]"
   ]
  },
  {
   "cell_type": "code",
   "execution_count": 5,
   "metadata": {
    "colab": {
     "autoexec": {
      "startup": false,
      "wait_interval": 0
     },
     "base_uri": "https://localhost:8080/",
     "height": 35,
     "output_extras": [
      {
       "item_id": 20
      }
     ]
    },
    "colab_type": "code",
    "executionInfo": {
     "elapsed": 1502690,
     "status": "ok",
     "timestamp": 1520078261468,
     "user": {
      "displayName": "Константин Сергеевич Твердов",
      "photoUrl": "https://lh3.googleusercontent.com/a/default-user=s128",
      "userId": "104715714179971500016"
     },
     "user_tz": -180
    },
    "id": "bdvH1j4-ocsb",
    "outputId": "76f62ed0-ce73-4e46-9ade-fbf52a8dcaa9"
   },
   "outputs": [
    {
     "name": "stderr",
     "output_type": "stream",
     "text": [
      "100%|██████████| 19/19 [25:02<00:00, 79.05s/it]\n"
     ]
    }
   ],
   "source": [
    "# Для каждого значения парамера оцените значение error, bias и variance согласно следующей схеме\n",
    "p_name ='k'\n",
    "bias_variance_df = pd.DataFrame.from_dict({p_name:parameters[p_name],\n",
    "                                           'bias':list([np.NaN]*len(parameters[p_name])), \n",
    "                                           'variance':list([np.NaN]*len(parameters[p_name])), \n",
    "                                           'error':list([np.NaN]*len(parameters[p_name]))})\n",
    "\n",
    "for parameter in tqdm(parameters[p_name]):\n",
    "    # Compute predictions\n",
    "    y_predict = np.zeros((len(test), n_repeat))\n",
    "\n",
    "    for i in range(n_repeat):\n",
    "        estimator = KNeighborsClassifier(n_neighbors=parameter, n_jobs=-1)\n",
    "        estimator.fit(X_train[i], y_train[i])\n",
    "        y_predict[:,i] = estimator.predict(X_test)\n",
    "\n",
    "    # Bias^2 + Variance + Noise decomposition of the mean squared error\n",
    "    y_error = np.zeros(len(test))\n",
    "\n",
    "    for i in range(n_repeat):\n",
    "        y_error[i] = np.sum((y_test - y_predict[:,i]) ** 2)\n",
    "\n",
    "    y_error /= n_repeat\n",
    "\n",
    "    # В каждой точке тестовой выборки bias положим равным квадрату разности реального значения \n",
    "    # и среднего предсказанного значения по всем обучающим выборкам.\n",
    "    y_bias = (y_test - np.mean(y_predict, axis=1)) ** 2\n",
    "    \n",
    "    # Variance положим равным среднеквадратичному разбросу значений по всем обучающим выборкам. \n",
    "    # Итоговое значение bias и variance возьмём равным среднему по всем точкам тестовой выборки\n",
    "    y_var = np.var(y_predict, axis=1)\n",
    "    \n",
    "    bias_variance_df.loc[bias_variance_df[p_name]==parameter, 'bias'] = y_bias.mean()\n",
    "    bias_variance_df.loc[bias_variance_df[p_name]==parameter, 'variance'] = y_var.mean()\n",
    "    bias_variance_df.loc[bias_variance_df[p_name]==parameter, 'error'] = y_error.mean()"
   ]
  },
  {
   "cell_type": "code",
   "execution_count": 20,
   "metadata": {
    "colab": {
     "autoexec": {
      "startup": false,
      "wait_interval": 0
     },
     "base_uri": "https://localhost:8080/",
     "height": 442,
     "output_extras": [
      {
       "item_id": 1
      }
     ]
    },
    "colab_type": "code",
    "executionInfo": {
     "elapsed": 776,
     "status": "ok",
     "timestamp": 1520079221292,
     "user": {
      "displayName": "Константин Сергеевич Твердов",
      "photoUrl": "https://lh3.googleusercontent.com/a/default-user=s128",
      "userId": "104715714179971500016"
     },
     "user_tz": -180
    },
    "id": "cjSEAAcnocsh",
    "outputId": "e1eedff7-0352-44ec-eca3-3fe83a7b4221"
   },
   "outputs": [
    {
     "data": {
      "image/png": "[encoded data removed]",
      "text/plain": [
       "<matplotlib.figure.Figure at 0x7f557a6db358>"
      ]
     },
     "metadata": {
      "tags": []
     },
     "output_type": "display_data"
    }
   ],
   "source": [
    "# нарисуйте зависимость bias, variance и error от значений параметров\n",
    "bias_variance_df.set_index(p_name).plot(figsize=(14, 7))\n",
    "plt.show()"
   ]
  },
  {
   "cell_type": "markdown",
   "metadata": {},
   "source": [
    "Видны скачки при четных / нечетных количествах соседей (при четных мы все решаем по ближайшему соседу).\n",
    "\n",
    "При малых $k$ алгоритм действует более локально, следовательно мы получаем меньший bias и больший разброс.\n",
    "При больших $k$ bias увеличивается, а variance падает. \n",
    "\n",
    "Полученный график соответствует теории."
   ]
  },
  {
   "cell_type": "code",
   "execution_count": 23,
   "metadata": {
    "colab": {
     "autoexec": {
      "startup": false,
      "wait_interval": 0
     },
     "base_uri": "https://localhost:8080/",
     "height": 35,
     "output_extras": [
      {
       "item_id": 19
      }
     ]
    },
    "colab_type": "code",
    "executionInfo": {
     "elapsed": 7212709,
     "status": "ok",
     "timestamp": 1520086823385,
     "user": {
      "displayName": "Константин Сергеевич Твердов",
      "photoUrl": "https://lh3.googleusercontent.com/a/default-user=s128",
      "userId": "104715714179971500016"
     },
     "user_tz": -180
    },
    "id": "CxMP3GuNocsk",
    "outputId": "594d1fa6-8a32-4a9b-92b6-f1bfbd178b2f"
   },
   "outputs": [
    {
     "name": "stderr",
     "output_type": "stream",
     "text": [
      "100%|██████████| 18/18 [2:00:12<00:00, 400.67s/it]\n"
     ]
    }
   ],
   "source": [
    "# Для каждого значения парамера оцените значение error, bias и variance согласно следующей схеме\n",
    "p_name ='p'\n",
    "\n",
    "bias_variance_df = pd.DataFrame.from_dict({p_name:parameters[p_name],\n",
    "                                           'bias':list([np.NaN]*len(parameters[p_name])), \n",
    "                                           'variance':list([np.NaN]*len(parameters[p_name])), \n",
    "                                           'error':list([np.NaN]*len(parameters[p_name]))})\n",
    "\n",
    "for parameter in tqdm(parameters[p_name]):\n",
    "    # Compute predictions\n",
    "    y_predict = np.zeros((len(test), n_repeat))\n",
    "\n",
    "    for i in range(n_repeat):\n",
    "        estimator = KNeighborsClassifier(p=parameter, n_jobs=-1)\n",
    "        estimator.fit(X_train[i], y_train[i])\n",
    "        y_predict[:,i] = estimator.predict(X_test)\n",
    "\n",
    "    # Bias^2 + Variance + Noise decomposition of the mean squared error\n",
    "    y_error = np.zeros(len(test))\n",
    "\n",
    "    for i in range(n_repeat):\n",
    "        y_error[i] = np.sum((y_test - y_predict[:,i]) ** 2)\n",
    "\n",
    "    y_error /= n_repeat\n",
    "\n",
    "    # В каждой точке тестовой выборки bias положим равным квадрату разности реального значения \n",
    "    # и среднего предсказанного значения по всем обучающим выборкам.\n",
    "    y_bias = (y_test - np.mean(y_predict, axis=1)) ** 2\n",
    "    \n",
    "    # Variance положим равным среднеквадратичному разбросу значений по всем обучающим выборкам. \n",
    "    # Итоговое значение bias и variance возьмём равным среднему по всем точкам тестовой выборки\n",
    "    y_var = np.var(y_predict, axis=1)\n",
    "    \n",
    "    bias_variance_df.loc[bias_variance_df[p_name]==parameter, 'bias'] = y_bias.mean()\n",
    "    bias_variance_df.loc[bias_variance_df[p_name]==parameter, 'variance'] = y_var.mean()\n",
    "    bias_variance_df.loc[bias_variance_df[p_name]==parameter, 'error'] = y_error.mean()"
   ]
  },
  {
   "cell_type": "code",
   "execution_count": 24,
   "metadata": {
    "colab": {
     "autoexec": {
      "startup": false,
      "wait_interval": 0
     },
     "base_uri": "https://localhost:8080/",
     "height": 442,
     "output_extras": [
      {
       "item_id": 1
      }
     ]
    },
    "colab_type": "code",
    "executionInfo": {
     "elapsed": 626,
     "status": "ok",
     "timestamp": 1520087045271,
     "user": {
      "displayName": "Константин Сергеевич Твердов",
      "photoUrl": "https://lh3.googleusercontent.com/a/default-user=s128",
      "userId": "104715714179971500016"
     },
     "user_tz": -180
    },
    "id": "P8zhVztYocsn",
    "outputId": "1fd3e41d-970b-4bda-f275-7d9c21c8642b"
   },
   "outputs": [
    {
     "data": {
      "image/png": "[encoded data removed]",
      "text/plain": [
       "<matplotlib.figure.Figure at 0x7f5578d9b470>"
      ]
     },
     "metadata": {
      "tags": []
     },
     "output_type": "display_data"
    }
   ],
   "source": [
    "# нарисуйте зависимость bias, variance и error от значений параметров\n",
    "bias_variance_df.set_index(p_name).plot(figsize=(14, 7))\n",
    "plt.show()"
   ]
  },
  {
   "cell_type": "markdown",
   "metadata": {},
   "source": [
    "Ошибка не зависит от параметра $p$ в метрике Минковского."
   ]
  },
  {
   "cell_type": "code",
   "execution_count": 34,
   "metadata": {
    "colab": {
     "autoexec": {
      "startup": false,
      "wait_interval": 0
     },
     "base_uri": "https://localhost:8080/",
     "height": 35,
     "output_extras": [
      {
       "item_id": 16
      }
     ]
    },
    "colab_type": "code",
    "executionInfo": {
     "elapsed": 1345321,
     "status": "ok",
     "timestamp": 1520089400438,
     "user": {
      "displayName": "Константин Сергеевич Твердов",
      "photoUrl": "https://lh3.googleusercontent.com/a/default-user=s128",
      "userId": "104715714179971500016"
     },
     "user_tz": -180
    },
    "id": "7xU9zzToocst",
    "outputId": "6de6a128-b140-42b8-da4b-ec491dabd801"
   },
   "outputs": [
    {
     "name": "stderr",
     "output_type": "stream",
     "text": [
      "100%|██████████| 15/15 [22:24<00:00, 89.64s/it]\n"
     ]
    }
   ],
   "source": [
    "# Для каждого значения парамера оцените значение error, bias и variance согласно следующей схеме\n",
    "p_name ='l_train'\n",
    "\n",
    "bias_variance_df = pd.DataFrame.from_dict({p_name:parameters[p_name],\n",
    "                                           'bias':list([np.NaN]*len(parameters[p_name])), \n",
    "                                           'variance':list([np.NaN]*len(parameters[p_name])), \n",
    "                                           'error':list([np.NaN]*len(parameters[p_name]))})\n",
    "\n",
    "for parameter in tqdm(parameters[p_name]):\n",
    "    X_train = []\n",
    "    y_train = []\n",
    "    for i in range(n_repeat):\n",
    "        sample_train = train.sample(n=int(len(train)*parameter), replace=True)\n",
    "        X, y = sample_train.iloc[:,:(len(df.columns) - 1)], sample_train.iloc[:,(len(df.columns) - 1)]\n",
    "        X_train.append(X)\n",
    "        y_train.append(y)\n",
    "        \n",
    "    # Compute predictions    \n",
    "    predict = np.zeros((len(test), n_repeat))\n",
    "\n",
    "    for i in range(n_repeat):\n",
    "        estimator = KNeighborsClassifier(n_jobs=-1)\n",
    "        estimator.fit(X_train[i], y_train[i])\n",
    "        y_predict[:,i] = estimator.predict(X_test)\n",
    "\n",
    "    # Bias^2 + Variance + Noise decomposition of the mean squared error\n",
    "    y_error = np.zeros(len(test))\n",
    "\n",
    "    for i in range(n_repeat):\n",
    "        y_error[i] = np.sum((y_test - y_predict[:,i]) ** 2)\n",
    "\n",
    "    y_error /= n_repeat\n",
    "\n",
    "    # В каждой точке тестовой выборки bias положим равным квадрату разности реального значения \n",
    "    # и среднего предсказанного значения по всем обучающим выборкам.\n",
    "    y_bias = (y_test - np.mean(y_predict, axis=1)) ** 2\n",
    "    \n",
    "    # Variance положим равным среднеквадратичному разбросу значений по всем обучающим выборкам. \n",
    "    # Итоговое значение bias и variance возьмём равным среднему по всем точкам тестовой выборки\n",
    "    y_var = np.var(y_predict, axis=1)\n",
    "    \n",
    "    bias_variance_df.loc[bias_variance_df[p_name]==parameter, 'bias'] = y_bias.mean()\n",
    "    bias_variance_df.loc[bias_variance_df[p_name]==parameter, 'variance'] = y_var.mean()\n",
    "    bias_variance_df.loc[bias_variance_df[p_name]==parameter, 'error'] = y_error.mean()"
   ]
  },
  {
   "cell_type": "code",
   "execution_count": 35,
   "metadata": {
    "colab": {
     "autoexec": {
      "startup": false,
      "wait_interval": 0
     },
     "base_uri": "https://localhost:8080/",
     "height": 442,
     "output_extras": [
      {
       "item_id": 1
      }
     ]
    },
    "colab_type": "code",
    "executionInfo": {
     "elapsed": 669,
     "status": "ok",
     "timestamp": 1520089477669,
     "user": {
      "displayName": "Константин Сергеевич Твердов",
      "photoUrl": "https://lh3.googleusercontent.com/a/default-user=s128",
      "userId": "104715714179971500016"
     },
     "user_tz": -180
    },
    "id": "oluUyw6Bocsw",
    "outputId": "a898a1b2-3cbb-4617-861e-7f79721dc09e"
   },
   "outputs": [
    {
     "data": {
      "image/png": "[encoded data removed]",
      "text/plain": [
       "<matplotlib.figure.Figure at 0x7f557a858320>"
      ]
     },
     "metadata": {
      "tags": []
     },
     "output_type": "display_data"
    }
   ],
   "source": [
    "# нарисуйте зависимость bias, variance и error от значений параметров\n",
    "bias_variance_df.set_index(p_name).plot(figsize=(14, 7))\n",
    "plt.show()"
   ]
  },
  {
   "cell_type": "markdown",
   "metadata": {},
   "source": [
    "Высокой bias теоретически соответствует недостаточной обучененности. И, кажется, он наоборот должен уменьшаться с увеличением размера тренировочной выборки.\n",
    "\n",
    "Вообще полученный график соответсвует уменьшению сложности модели, хотя мы ее не изменяем - алгоритм и признаки не трогаем."
   ]
  },
  {
   "cell_type": "markdown",
   "metadata": {
    "colab_type": "text",
    "id": "quMaUfJtocsz"
   },
   "source": [
    "<h2 align=\"center\">Реализуйте kNN (2 балла)</h2>"
   ]
  },
  {
   "cell_type": "code",
   "execution_count": 9,
   "metadata": {
    "colab": {
     "autoexec": {
      "startup": false,
      "wait_interval": 0
     }
    },
    "colab_type": "code",
    "collapsed": true,
    "id": "CL5dZ8m2oi_4"
   },
   "outputs": [],
   "source": [
    "import warnings\n",
    "import numpy as np\n",
    "from sklearn.neighbors import KDTree \n",
    "#from operator import itemgetter\n",
    "from collections import Counter\n",
    "\n",
    "warnings.simplefilter(\"ignore\")\n",
    "\n",
    "\n",
    "class kNNClassifier():\n",
    "    def __init__(self, n_neighbours, metric='minkowski'):\n",
    "        \"\"\"\n",
    "        Parameters:\n",
    "            n_neighbours: int\n",
    "                Число соседей\n",
    "\n",
    "            metric: *alias\n",
    "                метрика измерения расстояний\n",
    "        \"\"\"\n",
    "        #if (metric != 'minkowski'):\n",
    "        #    raise ValueError(metric, 'this metric isn\\'t defined')\n",
    "        \n",
    "        self.n_neighbours = n_neighbours\n",
    "        self.metric = metric\n",
    "        \n",
    "    def fit(self, X, y):\n",
    "        \"\"\"\n",
    "        Parameters:\n",
    "            X: 2d np.array\n",
    "            y: 1d np.array\n",
    "        \"\"\"\n",
    "        # Тут храните описание объектов обучающей выборки\n",
    "        self.X_learn = X\n",
    "        # Тут храните ответы по каждому объекту обучающей выборки\n",
    "        self.y_learn = y\n",
    "        self.KDTree = KDTree(self.X_learn, metric=self.metric)\n",
    "        return self\n",
    "\n",
    "    def predict(self, X):\n",
    "        \"\"\"\n",
    "        Parameters:\n",
    "            X: 2d np.array матрица объекты признаки на которых нужно сказать ответ\n",
    "\n",
    "        Returns:\n",
    "            y_pred: 1d np.array, вектор классов для каждого объекта\n",
    "        \"\"\"\n",
    "        \n",
    "        #наивная реализация - считается часов 15\n",
    "        \"\"\"\n",
    "        {\n",
    "            def distance(a, b):\n",
    "                if self.metric == 'minkowski':\n",
    "                    return np.sqrt(np.sum((a - b) ** 2))\n",
    "                else:\n",
    "                    return 1\n",
    "        \n",
    "            def neighbour_distance(i, a, b):\n",
    "                return (i, distance(a, b))\n",
    "        \n",
    "            def closest_neighbours(n, X_learn, X):\n",
    "                distances = [neighbour_distance(i, X, X_learn[i]) for i in range(X_learn.shape[0])]\n",
    "                neighbours = [pair[0] for pair in sorted(distances, key=itemgetter(1))]\n",
    "                return neighbours[:n]\n",
    "        \n",
    "            y_pred = np.zeros(X.shape[0])\n",
    "        \n",
    "            for i in tqdm(range(X.shape[0])):\n",
    "                neighbours = closest_neighbours(self.n_neighbours, self.X_learn, X)\n",
    "                classes = [self.y_learn[j] for j in neighbours]\n",
    "                c = Counter(classes)\n",
    "                y_pred[i] = c.most_common()[0][0]\n",
    "        }\n",
    "        \"\"\"\n",
    "        \n",
    "        #поэтому берем KDTree для подсчета расстояний\n",
    "\n",
    "        y_pred = np.zeros(X.shape[0])\n",
    "        \n",
    "        for i in range(X.shape[0]):\n",
    "            distances, neighbours = self.KDTree.query([X[i]], k=self.n_neighbours)\n",
    "            classes = [self.y_learn[j] for j in neighbours[0]]\n",
    "            c = Counter(classes)\n",
    "            y_pred[i] = c.most_common()[0][0] \n",
    "        \n",
    "        return y_pred"
   ]
  },
  {
   "cell_type": "code",
   "execution_count": 4,
   "metadata": {
    "colab": {
     "autoexec": {
      "startup": false,
      "wait_interval": 0
     }
    },
    "colab_type": "code",
    "collapsed": true,
    "id": "tH6BxSTWolDM"
   },
   "outputs": [],
   "source": [
    "X = df.iloc[:, :(len(df.columns) - 1)].values\n",
    "y = df.iloc[:, (len(df.columns) - 1)].values\n",
    "\n",
    "X_train, X_test, y_train, y_test = train_test_split(X, y, test_size=0.3)"
   ]
  },
  {
   "cell_type": "code",
   "execution_count": 11,
   "metadata": {
    "colab": {
     "autoexec": {
      "startup": false,
      "wait_interval": 0
     },
     "base_uri": "https://localhost:8080/",
     "height": 344,
     "output_extras": [
      {
       "item_id": 9
      },
      {
       "item_id": 10
      },
      {
       "item_id": 27
      },
      {
       "item_id": 28
      },
      {
       "item_id": 36
      },
      {
       "item_id": 37
      },
      {
       "item_id": 47
      },
      {
       "item_id": 48
      },
      {
       "item_id": 66
      },
      {
       "item_id": 67
      },
      {
       "item_id": 76
      },
      {
       "item_id": 77
      },
      {
       "item_id": 86
      },
      {
       "item_id": 87
      },
      {
       "item_id": 106
      },
      {
       "item_id": 107
      },
      {
       "item_id": 116
      },
      {
       "item_id": 117
      },
      {
       "item_id": 118
      }
     ]
    },
    "colab_type": "code",
    "executionInfo": {
     "elapsed": 28330,
     "status": "ok",
     "timestamp": 1520095766343,
     "user": {
      "displayName": "Константин Сергеевич Твердов",
      "photoUrl": "https://lh3.googleusercontent.com/a/default-user=s128",
      "userId": "104715714179971500016"
     },
     "user_tz": -180
    },
    "id": "FSXMhpPDorye",
    "outputId": "44313bcf-e4c8-45ae-8f10-4b42b31d1793"
   },
   "outputs": [
    {
     "name": "stdout",
     "output_type": "stream",
     "text": [
      "Number of neighbours == 3:\n",
      "On train sample:  0.881098631099\n",
      "On test sample:  0.825161224281\n",
      "\n",
      "\n",
      "Number of neighbours == 5:\n",
      "On train sample:  0.870875745876\n",
      "On test sample:  0.833657487972\n",
      "\n",
      "\n",
      "Number of neighbours == 10:\n",
      "On train sample:  0.874034749035\n",
      "On test sample:  0.840720646944\n"
     ]
    }
   ],
   "source": [
    "# Запустите ваш алгоритм на данных http://archive.ics.uci.edu/ml/machine-learning-databases/adult\n",
    "from sklearn.metrics import accuracy_score\n",
    "from time import sleep\n",
    "# =======================================\n",
    "# Обучите классификатор при k=3, 5, и 10\n",
    "# =======================================\n",
    "clf = kNNClassifier(3)\n",
    "clf.fit(X_train, y_train)\n",
    "print(\"Number of neighbours == 3:\")\n",
    "print(\"On train sample: \", accuracy_score(y_train, clf.predict(X_train)))\n",
    "print(\"On test sample: \", accuracy_score(y_test, clf.predict(X_test)))\n",
    "print('\\n')\n",
    "\n",
    "clf = kNNClassifier(5)\n",
    "clf.fit(X_train, y_train)\n",
    "print(\"Number of neighbours == 5:\")\n",
    "print(\"On train sample: \", accuracy_score(y_train, clf.predict(X_train)))\n",
    "print(\"On test sample: \", accuracy_score(y_test, clf.predict(X_test)))\n",
    "print('\\n')\n",
    "\n",
    "clf = kNNClassifier(10)\n",
    "clf.fit(X_train, y_train)\n",
    "print(\"Number of neighbours == 10:\")\n",
    "print(\"On train sample: \", accuracy_score(y_train, clf.predict(X_train)))\n",
    "print(\"On test sample: \", accuracy_score(y_test, clf.predict(X_test)))"
   ]
  },
  {
   "cell_type": "markdown",
   "metadata": {
    "colab_type": "text",
    "id": "qwBdHl_xrDKz"
   },
   "source": [
    "<h1 align=\"center\">Отбор признаков (3 балла) </h1>"
   ]
  },
  {
   "cell_type": "markdown",
   "metadata": {
    "colab_type": "text",
    "id": "kX3aq-cVrALi"
   },
   "source": [
    "Реализуйте алгоритм отбора признаков ADD_DELL и примените его для kNN на данных sklearn.datasets.digits(). \n",
    "Для этого предлагается реализовать следующие функции"
   ]
  },
  {
   "cell_type": "code",
   "execution_count": 55,
   "metadata": {
    "collapsed": true
   },
   "outputs": [],
   "source": [
    "# обновление минимального значения ошибки\n",
    "def update_Q_min_index(estimator, Q_min, Q_min_set, Q_min_index, feature_set, X_train, Y_train, X_test, Y_test, update_equal=False):\n",
    "    feature_set_size = len(feature_set)\n",
    "    estimator.fit(X_train[:, feature_set], Y_train)\n",
    "    error = 1 - accuracy_score(Y_test, estimator.predict(X_test[:, feature_set]))\n",
    "    if error < Q_min[feature_set_size]:\n",
    "        Q_min_set[feature_set_size] = feature_set\n",
    "        Q_min[feature_set_size] = error\n",
    "        if ((Q_min[feature_set_size] < Q_min[Q_min_index])\n",
    "                or (update_equal and Q_min[feature_set_size] == Q_min[Q_min_index])):\n",
    "            Q_min_index = feature_set_size\n",
    "    return Q_min_index\n",
    "\n",
    "\n",
    "# Нужно реализовать алгоритм добавление\n",
    "def add_one(estimator, feature_set, X_train, Y_train, X_test, Y_test, look_forward=10, start_feature_set=[]):\n",
    "    Q_min = {0: float('+inf')}\n",
    "    Q_min_set = {0: []}\n",
    "    Q_min_index = 0\n",
    "    \n",
    "    # инициализация стартового набора признаков     \n",
    "    if start_feature_set:\n",
    "        estimator.fit(X_train[:, feature_set], Y_train)\n",
    "        error = 1 - accuracy_score(Y_test, estimator.predict(X_test[:, feature_set]))\n",
    "        Q_min = {len(start_feature_set) : error}\n",
    "        Q_min_set = {len(start_feature_set) : start_feature_set}\n",
    "        Q_min_index = len(start_feature_set)\n",
    "    \n",
    "    # добавление признаков     \n",
    "    for feature_set_size in range(len(start_feature_set) + 1, len(feature_set) + 1):\n",
    "        Q_min[feature_set_size] = float('+inf')\n",
    "        unused_features = set(feature_set).difference(set(Q_min_set[feature_set_size - 1]))\n",
    "        unused_features = list(unused_features)\n",
    "        \n",
    "        for feature in unused_features:\n",
    "            new_feature_set = Q_min_set[feature_set_size - 1].copy()\n",
    "            new_feature_set.append(feature)\n",
    "            Q_min_index = update_Q_min_index(estimator, Q_min, Q_min_set, Q_min_index, new_feature_set, \n",
    "                                             X_train, Y_train, X_test, Y_test)\n",
    "        \n",
    "        print ('Q_min: %.4lf, set_size: %d, added: %s' % (Q_min[feature_set_size], feature_set_size, Q_min_set[feature_set_size][-1]))        \n",
    "    \n",
    "    # критерий останова\n",
    "        if Q_min_index + look_forward <= feature_set_size:\n",
    "            break\n",
    "    return Q_min_set[Q_min_index]\n",
    "\n",
    "def del_one(estimator, feature_set, X_train, Y_train, X_test, Y_test, look_forward=10):\n",
    "    \n",
    "#     инициализация\n",
    "    estimator.fit(X_train[:, feature_set], Y_train)\n",
    "    error = 1 - accuracy_score(Y_test, estimator.predict(X_test[:, feature_set]))\n",
    "    Q_min = {len(feature_set): error}\n",
    "    Q_min_set = {len(feature_set): feature_set.copy()}\n",
    "    Q_min_index = len(feature_set)\n",
    "    \n",
    "#     итерационное удаление признаков\n",
    "    for feature_set_size in list(range(len(feature_set) - 1, 0, -1)):\n",
    "        Q_min[feature_set_size] = float('+inf')\n",
    "         \n",
    "        for feature in Q_min_set[feature_set_size + 1].copy():\n",
    "            new_feature_set = Q_min_set[feature_set_size + 1].copy()\n",
    "            new_feature_set.remove(feature)\n",
    "            Q_min_index = update_Q_min_index(estimator, Q_min, Q_min_set, Q_min_index, new_feature_set, \n",
    "                                             X_train, Y_train, X_test, Y_test)\n",
    "            \n",
    "        print ('Q_min: %.4lf, set_size: %d, deleted: %s' % (Q_min[feature_set_size], feature_set_size,\n",
    "            set(Q_min_set[feature_set_size + 1]).difference(set(Q_min_set[feature_set_size])),\n",
    "        ))\n",
    "        \n",
    "#         критерий останова\n",
    "        if feature_set_size + look_forward <= Q_min_index:\n",
    "            break\n",
    "    return Q_min_set[Q_min_index]\n",
    "\n",
    "# Наконец, реализуйте ADD-DELL\n",
    "def add_del(estimator, feature_set, X_train, Y_train, X_test, Y_test, look_forward=10):\n",
    "    Q_min = None\n",
    "    Q_min_current = float('+inf')\n",
    "    start_feature_set = []\n",
    "    \n",
    "#     количество итераций, приведших к увеличению ошибки\n",
    "    bad_iteration_count = 2\n",
    "    \n",
    "    while (Q_min is None) or (Q_min_current < Q_min or bad_iteration_count):\n",
    "        Q_min = Q_min_current\n",
    "        start_feature_set = add_one(estimator, feature_set, X_train, Y_train, X_test, Y_test, look_forward, start_feature_set=start_feature_set)\n",
    "        start_feature_set = del_one(estimator, start_feature_set, X_train, Y_train, X_test, Y_test, look_forward)\n",
    "        estimator.fit(X_train[:, start_feature_set], Y_train)\n",
    "        Q_min_current = 1 - accuracy_score(Y_test, estimator.predict(X_test[:, start_feature_set]))\n",
    "        \n",
    "        if Q_min_current >= Q_min:\n",
    "            bad_iteration_count -= 1\n",
    "        print ('Q_min: %.4lf, set_size: %d' % (Q_min_current, len(start_feature_set)))\n",
    "    return start_feature_set"
   ]
  },
  {
   "cell_type": "code",
   "execution_count": 56,
   "metadata": {
    "colab": {
     "autoexec": {
      "startup": false,
      "wait_interval": 0
     }
    },
    "colab_type": "code",
    "id": "EFd1kJoCoctA"
   },
   "outputs": [
    {
     "name": "stdout",
     "output_type": "stream",
     "text": [
      "Q_min: 0.7704, set_size: 1, added: 53\n",
      "Q_min: 0.6537, set_size: 2, added: 26\n",
      "Q_min: 0.5241, set_size: 3, added: 37\n",
      "Q_min: 0.4019, set_size: 4, added: 29\n",
      "Q_min: 0.2889, set_size: 5, added: 28\n",
      "Q_min: 0.2259, set_size: 6, added: 19\n",
      "Q_min: 0.1537, set_size: 7, added: 43\n",
      "Q_min: 0.1204, set_size: 8, added: 42\n",
      "Q_min: 0.0889, set_size: 9, added: 61\n",
      "Q_min: 0.0759, set_size: 10, added: 10\n",
      "Q_min: 0.0593, set_size: 11, added: 35\n",
      "Q_min: 0.0537, set_size: 12, added: 34\n",
      "Q_min: 0.0463, set_size: 13, added: 44\n",
      "Q_min: 0.0407, set_size: 14, added: 13\n",
      "Q_min: 0.0370, set_size: 15, added: 4\n",
      "Q_min: 0.0315, set_size: 16, added: 50\n",
      "Q_min: 0.0241, set_size: 17, added: 27\n",
      "Q_min: 0.0222, set_size: 18, added: 25\n",
      "Q_min: 0.0204, set_size: 19, added: 1\n",
      "Q_min: 0.0204, set_size: 20, added: 0\n",
      "Q_min: 0.0204, set_size: 21, added: 7\n",
      "Q_min: 0.0204, set_size: 22, added: 8\n",
      "Q_min: 0.0204, set_size: 23, added: 15\n",
      "Q_min: 0.0222, set_size: 18, deleted: {1}\n",
      "Q_min: 0.0241, set_size: 17, deleted: {25}\n",
      "Q_min: 0.0259, set_size: 16, deleted: {61}\n",
      "Q_min: 0.0333, set_size: 15, deleted: {27}\n",
      "Q_min: 0.0204, set_size: 19\n",
      "Q_min: 0.0204, set_size: 20, added: 0\n",
      "Q_min: 0.0204, set_size: 21, added: 7\n",
      "Q_min: 0.0204, set_size: 22, added: 8\n",
      "Q_min: 0.0204, set_size: 23, added: 15\n",
      "Q_min: 0.0222, set_size: 18, deleted: {1}\n",
      "Q_min: 0.0241, set_size: 17, deleted: {25}\n",
      "Q_min: 0.0259, set_size: 16, deleted: {61}\n",
      "Q_min: 0.0333, set_size: 15, deleted: {27}\n",
      "Q_min: 0.0204, set_size: 19\n",
      "Q_min: 0.0204, set_size: 20, added: 0\n",
      "Q_min: 0.0204, set_size: 21, added: 7\n",
      "Q_min: 0.0204, set_size: 22, added: 8\n",
      "Q_min: 0.0204, set_size: 23, added: 15\n",
      "Q_min: 0.0222, set_size: 18, deleted: {1}\n",
      "Q_min: 0.0241, set_size: 17, deleted: {25}\n",
      "Q_min: 0.0259, set_size: 16, deleted: {61}\n",
      "Q_min: 0.0333, set_size: 15, deleted: {27}\n",
      "Q_min: 0.0204, set_size: 19\n",
      "CPU times: user 28.5 s, sys: 16 ms, total: 28.5 s\n",
      "Wall time: 28.5 s\n",
      "\n",
      "\n",
      "Используя ADD-DELL: \n",
      "0.97962962963\n",
      "CPU times: user 24 ms, sys: 0 ns, total: 24 ms\n",
      "Wall time: 25.2 ms\n",
      "\n",
      "\n",
      "Без отбора признаков: \n",
      "0.97962962963\n",
      "CPU times: user 92 ms, sys: 0 ns, total: 92 ms\n",
      "Wall time: 93.6 ms\n",
      "\n",
      "\n"
     ]
    }
   ],
   "source": [
    "from sklearn.datasets import load_digits\n",
    "digits = load_digits()\n",
    "X_train, X_test, Y_train, Y_test = train_test_split(digits['data'], digits['target'], test_size=0.3) \n",
    "\n",
    "# проверьте вашу реализацию\n",
    "estimator = KNeighborsClassifier()\n",
    "%time feature_set = add_del(estimator, list(range(X_train.shape[1])), X_train, Y_train, X_test, Y_test, look_forward=4)\n",
    "print('\\n')\n",
    "\n",
    "print(\"Используя ADD-DELL: \")\n",
    "%time print(accuracy_score(Y_test, estimator.fit(X_train[:, feature_set], Y_train).predict(X_test[:, feature_set])))\n",
    "print('\\n')\n",
    "\n",
    "print(\"Без отбора признаков: \")\n",
    "%time print(accuracy_score(Y_test, estimator.fit(X_train, Y_train).predict(X_test)))\n",
    "print('\\n')"
   ]
  },
  {
   "cell_type": "markdown",
   "metadata": {},
   "source": [
    "> проверьте вашу реализацию\n",
    "\n",
    "Проверено! Accuracy не пострадало, при этом мы выиграли в скорости, даже учитывая предподсчет ADD-DELL. "
   ]
  }
 ],
 "metadata": {
  "colab": {
   "collapsed_sections": [],
   "default_view": {},
   "name": "task1.ipynb",
   "provenance": [],
   "version": "0.3.2",
   "views": {}
  },
  "kernelspec": {
   "display_name": "Python 3",
   "language": "python",
   "name": "python3"
  },
  "language_info": {
   "codemirror_mode": {
    "name": "ipython",
    "version": 3
   },
   "file_extension": ".py",
   "mimetype": "text/x-python",
   "name": "python",
   "nbconvert_exporter": "python",
   "pygments_lexer": "ipython3",
   "version": "3.6.3"
  }
 },
 "nbformat": 4,
 "nbformat_minor": 1
}
