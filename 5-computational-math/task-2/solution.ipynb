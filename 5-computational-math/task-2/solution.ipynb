{
 "cells": [
  {
   "cell_type": "markdown",
   "metadata": {},
   "source": [
    "#### Второе практическое задание по курсу <<Вычислительная математика>>\n",
    "*Работа выполнена Твердовым Константином, группа 592.*"
   ]
  },
  {
   "cell_type": "markdown",
   "metadata": {},
   "source": [
    "Решается **Задача 2**:\n",
    ">Написать программу для решения произвольной линейной системы с положительно определенной матрицей методом Якоби."
   ]
  },
  {
   "cell_type": "markdown",
   "metadata": {},
   "source": [
    "* *Построение положительно определенной матрицы:*\n",
    "    \n",
    "    Для любой вещественной обратимой матрицы $A$, произведение $A^TA$ есть положительно определенная матрица, т.к. $x^T(A^TA)x = (Ax)^T(Ax) > 0$ $\\forall x \\in \\mathbb R^n$ и $Ax \\neq 0$ ($A$ - невырождена).\n",
    "    \n",
    "    Положительная определенность полученной матрицы проверяется по собственным числам.\n",
    "\n",
    "\n",
    "* Пусть задана СЛАУ $Ax = b$, где $A$ - матрица размера $n \\times n$, $b$ $-$ столбец коэффициентов, $x$ $-$ искомый вектор. \n",
    "\n",
    "    Согласно методу Якоби представим $A$ в виде $A = D + R$, где $D$ $-$ диагональная матрица.\n",
    "    \n",
    "    Тогда $Dx + Rx = b$ и $x = -D^{-1}Rx + D^{-1}b$,\n",
    "    \n",
    "    Итерационный метод Якоби строится по формуле $x^{(k+1)} = D^{-1}(-Rx^{(k)} + b)$,\n",
    "\n",
    "    Используемая далее покомпонентная запись:\n",
    "\n",
    "    $ x^{(k+1)}_i = \\frac{1}{a_{ii}} (-\\sum_{i \\neq j} a_{ij}x^{(k)}_j + b_i)$."
   ]
  },
  {
   "cell_type": "code",
   "execution_count": 8,
   "metadata": {
    "collapsed": true
   },
   "outputs": [],
   "source": [
    "import numpy as np"
   ]
  },
  {
   "cell_type": "code",
   "execution_count": 9,
   "metadata": {
    "collapsed": true
   },
   "outputs": [],
   "source": [
    "def GenPositiveDefiniteMatrix(n):\n",
    "    A = np.random.random(size=(n,n))\n",
    "    A = np.dot(A.transpose(), A)\n",
    "    return A\n",
    "    \n",
    "def GenDependentVariables(n):\n",
    "    return np.random.random(size=n)"
   ]
  },
  {
   "cell_type": "code",
   "execution_count": 10,
   "metadata": {
    "collapsed": true
   },
   "outputs": [],
   "source": [
    "def IsMatrixPositiveDefinite(A):\n",
    "    return np.all(np.linalg.eigvals(A) > 0)\n",
    "\n",
    "def Norm(x):\n",
    "    norm_l1 = 0\n",
    "    \n",
    "    for i in range(len(x)):\n",
    "        norm_l1 += np.fabs(x[i])\n",
    "        \n",
    "    return norm_l1"
   ]
  },
  {
   "cell_type": "code",
   "execution_count": 11,
   "metadata": {
    "collapsed": true
   },
   "outputs": [],
   "source": [
    "def JacobiMethod(a, b, accuracy, x_start=None):\n",
    "    if (x_start is None):\n",
    "        x = np.zeros_like(b)\n",
    "        x_prev = np.zeros_like(b)\n",
    "    else:\n",
    "        x = x_start\n",
    "        x_prev = x_start\n",
    "    \n",
    "    n = len(x)\n",
    "    iters = 0\n",
    "    \n",
    "    while Norm(np.dot(A, x) - b) > accuracy:\n",
    "        \n",
    "        for i in range(n):\n",
    "            composition = 0\n",
    "            \n",
    "            for j in range(n):\n",
    "                if j != i:\n",
    "                    composition += A[i][j] * x_prev[j]\n",
    "                    \n",
    "            x[i] = (b[i] - composition) / A[i][i]\n",
    "        \n",
    "        x_prev = x\n",
    "        iters += 1\n",
    "        \n",
    "    return x, iters"
   ]
  },
  {
   "cell_type": "code",
   "execution_count": 19,
   "metadata": {},
   "outputs": [
    {
     "name": "stdout",
     "output_type": "stream",
     "text": [
      "[[ 1.84045512  1.38644888  1.45096617  0.99566609  0.92220514]\n",
      " [ 1.38644888  1.29455431  0.99192479  0.92184414  0.70456093]\n",
      " [ 1.45096617  0.99192479  1.34462255  0.58915295  0.67156302]\n",
      " [ 0.99566609  0.92184414  0.58915295  0.8401802   0.6874337 ]\n",
      " [ 0.92220514  0.70456093  0.67156302  0.6874337   1.21474897]]\n",
      "\n",
      "[ 0.59180339  0.79530494  0.05124276  0.48497809  0.95915855]\n",
      "\n",
      "[ 5.21649121  0.02114442  0.07818534  0.73574992  0.48299026]\n",
      "\n",
      "A linalg solution:  [ 5.66152051  3.48691159 -6.6089529  -7.05353437  2.11442797]\n",
      "\n",
      "An iterative solution obtained in  321  iterations:  [ 5.66145935  3.48688346 -6.60889258 -7.05346492  2.11441807]\n",
      "\n",
      "The exact error:  0.00022895889202\n"
     ]
    }
   ],
   "source": [
    "n = 5\n",
    "accuracy = 1e-5\n",
    "\n",
    "A = GenPositiveDefiniteMatrix(n)\n",
    "print(A, end='\\n\\n')\n",
    "\n",
    "b = GenDependentVariables(n)\n",
    "print(b, end='\\n\\n')\n",
    "\n",
    "print(np.linalg.eigvals(A), end='\\n\\n')\n",
    "\n",
    "x_linalg = np.linalg.solve(A, b)\n",
    "print(\"A linalg solution: \", x_linalg, end='\\n\\n')\n",
    "\n",
    "x_jacobi, iters = JacobiMethod(A, b, accuracy)\n",
    "print(\"An iterative solution obtained in \",  iters, \" iterations: \", x_jacobi, end='\\n\\n')\n",
    "print(\"The exact error: \", Norm(x_jacobi - x_linalg))"
   ]
  },
  {
   "cell_type": "code",
   "execution_count": 13,
   "metadata": {},
   "outputs": [
    {
     "ename": "SyntaxError",
     "evalue": "EOF while scanning triple-quoted string literal (<ipython-input-13-547fd41d9656>, line 20)",
     "output_type": "error",
     "traceback": [
      "\u001b[1;36m  File \u001b[1;32m\"<ipython-input-13-547fd41d9656>\"\u001b[1;36m, line \u001b[1;32m20\u001b[0m\n\u001b[1;33m    print(\"Estimation of error: \", q * Norm(x_linalg))\u001b[0m\n\u001b[1;37m                                                      \n^\u001b[0m\n\u001b[1;31mSyntaxError\u001b[0m\u001b[1;31m:\u001b[0m EOF while scanning triple-quoted string literal\n"
     ]
    }
   ],
   "source": [
    "'''\n",
    "def MatrixNorm(A):\n",
    "    norm = 0\n",
    "    \n",
    "    for i in range(A.shape[0]):\n",
    "        temp = 0\n",
    "        for j in range(A.shape[1]):\n",
    "            temp += A[i][j]\n",
    "        if (temp > norm):\n",
    "            norm = temp\n",
    "            \n",
    "    return norm\n",
    "    \n",
    "D = np.diag(np.diag(A))\n",
    "R = A - D\n",
    "B = np.dot(np.linalg.inv(D), R)\n",
    "print(B)\n",
    "q = MatrixNorm(B)\n",
    "print(q)\n",
    "print(\"Estimation of error: \", q * Norm(x_linalg))"
   ]
  }
 ],
 "metadata": {
  "kernelspec": {
   "display_name": "Python 3",
   "language": "python",
   "name": "python3"
  },
  "language_info": {
   "codemirror_mode": {
    "name": "ipython",
    "version": 3
   },
   "file_extension": ".py",
   "mimetype": "text/x-python",
   "name": "python",
   "nbconvert_exporter": "python",
   "pygments_lexer": "ipython3",
   "version": "3.6.1"
  }
 },
 "nbformat": 4,
 "nbformat_minor": 2
}
